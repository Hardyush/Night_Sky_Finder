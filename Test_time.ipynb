{
 "cells": [
  {
   "cell_type": "code",
   "execution_count": null,
   "id": "41e35454",
   "metadata": {},
   "outputs": [
    {
     "name": "stdout",
     "output_type": "stream",
     "text": [
      "Loading astrometry data from: --f=c:\\Users\\jainv\\AppData\\Roaming\\jupyter\\runtime\\kernel-v3bb84894a480210e207049832add070f11c9ada47.json\n"
     ]
    },
    {
     "ename": "OSError",
     "evalue": "[Errno 22] Invalid argument: '--f=c:\\\\Users\\\\jainv\\\\AppData\\\\Roaming\\\\jupyter\\\\runtime\\\\kernel-v3bb84894a480210e207049832add070f11c9ada47.json'",
     "output_type": "error",
     "traceback": [
      "\u001b[31m---------------------------------------------------------------------------\u001b[39m",
      "\u001b[31mOSError\u001b[39m                                   Traceback (most recent call last)",
      "\u001b[36mCell\u001b[39m\u001b[36m \u001b[39m\u001b[32mIn[10]\u001b[39m\u001b[32m, line 76\u001b[39m\n\u001b[32m     74\u001b[39m     \u001b[38;5;28mprint\u001b[39m(\u001b[33m\"\u001b[39m\u001b[33mUsage: python estimate_sky_photo_origin.py <astrometry_json_file>\u001b[39m\u001b[33m\"\u001b[39m)\n\u001b[32m     75\u001b[39m \u001b[38;5;28;01melse\u001b[39;00m:\n\u001b[32m---> \u001b[39m\u001b[32m76\u001b[39m     \u001b[43mrun_estimation\u001b[49m\u001b[43m(\u001b[49m\u001b[43msys\u001b[49m\u001b[43m.\u001b[49m\u001b[43margv\u001b[49m\u001b[43m[\u001b[49m\u001b[32;43m1\u001b[39;49m\u001b[43m]\u001b[49m\u001b[43m)\u001b[49m\n",
      "\u001b[36mCell\u001b[39m\u001b[36m \u001b[39m\u001b[32mIn[10]\u001b[39m\u001b[32m, line 54\u001b[39m, in \u001b[36mrun_estimation\u001b[39m\u001b[34m(astrometry_json_path)\u001b[39m\n\u001b[32m     52\u001b[39m \u001b[38;5;28;01mdef\u001b[39;00m\u001b[38;5;250m \u001b[39m\u001b[34mrun_estimation\u001b[39m(astrometry_json_path):\n\u001b[32m     53\u001b[39m     \u001b[38;5;28mprint\u001b[39m(\u001b[33mf\u001b[39m\u001b[33m\"\u001b[39m\u001b[33mLoading astrometry data from: \u001b[39m\u001b[38;5;132;01m{\u001b[39;00mastrometry_json_path\u001b[38;5;132;01m}\u001b[39;00m\u001b[33m\"\u001b[39m)\n\u001b[32m---> \u001b[39m\u001b[32m54\u001b[39m     data = \u001b[43mload_astrometry_data\u001b[49m\u001b[43m(\u001b[49m\u001b[43mastrometry_json_path\u001b[49m\u001b[43m)\u001b[49m\n\u001b[32m     56\u001b[39m     ra = data[\u001b[33m'\u001b[39m\u001b[33mra\u001b[39m\u001b[33m'\u001b[39m]\n\u001b[32m     57\u001b[39m     dec = data[\u001b[33m'\u001b[39m\u001b[33mdec\u001b[39m\u001b[33m'\u001b[39m]\n",
      "\u001b[36mCell\u001b[39m\u001b[36m \u001b[39m\u001b[32mIn[10]\u001b[39m\u001b[32m, line 48\u001b[39m, in \u001b[36mload_astrometry_data\u001b[39m\u001b[34m(filepath)\u001b[39m\n\u001b[32m     46\u001b[39m \u001b[38;5;28;01mdef\u001b[39;00m\u001b[38;5;250m \u001b[39m\u001b[34mload_astrometry_data\u001b[39m(filepath):\n\u001b[32m     47\u001b[39m \u001b[38;5;250m    \u001b[39m\u001b[33;03m\"\"\"Load JSON result from astrometry.net\"\"\"\u001b[39;00m\n\u001b[32m---> \u001b[39m\u001b[32m48\u001b[39m     \u001b[38;5;28;01mwith\u001b[39;00m \u001b[38;5;28;43mopen\u001b[39;49m\u001b[43m(\u001b[49m\u001b[43mfilepath\u001b[49m\u001b[43m,\u001b[49m\u001b[43m \u001b[49m\u001b[33;43m'\u001b[39;49m\u001b[33;43mr\u001b[39;49m\u001b[33;43m'\u001b[39;49m\u001b[43m)\u001b[49m \u001b[38;5;28;01mas\u001b[39;00m f:\n\u001b[32m     49\u001b[39m         data = json.load(f)\n\u001b[32m     50\u001b[39m     \u001b[38;5;28;01mreturn\u001b[39;00m data\n",
      "\u001b[36mFile \u001b[39m\u001b[32m~\\AppData\\Roaming\\Python\\Python313\\site-packages\\IPython\\core\\interactiveshell.py:327\u001b[39m, in \u001b[36m_modified_open\u001b[39m\u001b[34m(file, *args, **kwargs)\u001b[39m\n\u001b[32m    320\u001b[39m \u001b[38;5;28;01mif\u001b[39;00m file \u001b[38;5;129;01min\u001b[39;00m {\u001b[32m0\u001b[39m, \u001b[32m1\u001b[39m, \u001b[32m2\u001b[39m}:\n\u001b[32m    321\u001b[39m     \u001b[38;5;28;01mraise\u001b[39;00m \u001b[38;5;167;01mValueError\u001b[39;00m(\n\u001b[32m    322\u001b[39m         \u001b[33mf\u001b[39m\u001b[33m\"\u001b[39m\u001b[33mIPython won\u001b[39m\u001b[33m'\u001b[39m\u001b[33mt let you open fd=\u001b[39m\u001b[38;5;132;01m{\u001b[39;00mfile\u001b[38;5;132;01m}\u001b[39;00m\u001b[33m by default \u001b[39m\u001b[33m\"\u001b[39m\n\u001b[32m    323\u001b[39m         \u001b[33m\"\u001b[39m\u001b[33mas it is likely to crash IPython. If you know what you are doing, \u001b[39m\u001b[33m\"\u001b[39m\n\u001b[32m    324\u001b[39m         \u001b[33m\"\u001b[39m\u001b[33myou can use builtins\u001b[39m\u001b[33m'\u001b[39m\u001b[33m open.\u001b[39m\u001b[33m\"\u001b[39m\n\u001b[32m    325\u001b[39m     )\n\u001b[32m--> \u001b[39m\u001b[32m327\u001b[39m \u001b[38;5;28;01mreturn\u001b[39;00m \u001b[43mio_open\u001b[49m\u001b[43m(\u001b[49m\u001b[43mfile\u001b[49m\u001b[43m,\u001b[49m\u001b[43m \u001b[49m\u001b[43m*\u001b[49m\u001b[43margs\u001b[49m\u001b[43m,\u001b[49m\u001b[43m \u001b[49m\u001b[43m*\u001b[49m\u001b[43m*\u001b[49m\u001b[43mkwargs\u001b[49m\u001b[43m)\u001b[49m\n",
      "\u001b[31mOSError\u001b[39m: [Errno 22] Invalid argument: '--f=c:\\\\Users\\\\jainv\\\\AppData\\\\Roaming\\\\jupyter\\\\runtime\\\\kernel-v3bb84894a480210e207049832add070f11c9ada47.json'"
     ]
    }
   ],
   "source": [
    "from skyfield.api import Topos, Star, load, utc\n",
    "from datetime import datetime, timedelta\n",
    "from skyfield.positionlib import position_of_radec\n",
    "from skyfield.units import Angle\n",
    "import numpy as np\n",
    "import requests\n",
    "import json\n",
    "import time\n",
    "from astropy.coordinates import EarthLocation, AltAz, SkyCoord\n",
    "from astropy.time import Time\n",
    "import astropy.units as u\n",
    "import numpy as np\n",
    "import datetime\n",
    "\n",
    "ra_hours = 220.90287878844615/ 15.0\n",
    "dec_deg = 78.1016098453677\n",
    "fov_tolerance_deg = 9.93\n",
    "\n",
    "def find_best_location_time(ra_deg, dec_deg, fov_deg):\n",
    "    # Setup sky coordinate from astrometry\n",
    "    sky_coord = SkyCoord(ra=ra_deg*u.deg, dec=dec_deg*u.deg, frame='icrs')\n",
    "\n",
    "    # Search range for lat/lon and time\n",
    "    latitudes = np.arange(-90, 91, 10)  # every 10 degrees\n",
    "    longitudes = np.arange(-180, 181, 10)\n",
    "\n",
    "    # Try a few candidate times (e.g. a full night range on a fixed day)\n",
    "    base_date = '2024-06-01'\n",
    "    hours = np.arange(0, 24, 1)\n",
    "\n",
    "    best_matches = []\n",
    "\n",
    "    for lat in latitudes:\n",
    "        for lon in longitudes:\n",
    "            location = EarthLocation(lat=lat*u.deg, lon=lon*u.deg)\n",
    "            for h in hours:\n",
    "                t = Time(f\"{base_date} {h:02d}:00:00\")\n",
    "                altaz = sky_coord.transform_to(AltAz(obstime=t, location=location))\n",
    "                if altaz.alt.deg > 60:  # target is high in sky\n",
    "                    best_matches.append((lat, lon, h, altaz.alt.deg))\n",
    "\n",
    "    return sorted(best_matches, key=lambda x: -x[3])  # highest altitude first\n",
    "\n",
    "\n",
    "\n",
    "def load_astrometry_data(filepath):\n",
    "    \"\"\"Load JSON result from astrometry.net\"\"\"\n",
    "    with open(filepath, 'r') as f:\n",
    "        data = json.load(f)\n",
    "    return data\n",
    "\n",
    "def run_estimation(astrometry_json_path):\n",
    "    print(f\"Loading astrometry data from: {astrometry_json_path}\")\n",
    "    data = load_astrometry_data(astrometry_json_path)\n",
    "\n",
    "    ra = data['ra']\n",
    "    dec = data['dec']\n",
    "    fov_deg = data['radius'] * 2  # radius to diameter\n",
    "    orientation = data.get('orientation', None)\n",
    "\n",
    "    print(f\"Estimating observer location/time for:\")\n",
    "    print(f\"  RA = {ra:.2f}°, Dec = {dec:.2f}°, FOV ~ {fov_deg:.2f}°\")\n",
    "\n",
    "    best_matches = find_best_location_time(ra, dec, fov_deg, orientation)\n",
    "\n",
    "    print(\"\\nTop 5 candidate location/time combos:\")\n",
    "    for i, match in enumerate(best_matches[:5]):\n",
    "        print(f\"{i+1}. Lat: {match['lat']}°, Lon: {match['lon']}°, \"\n",
    "              f\"UTC Time: {match['utc_hour']:02d}:00, Altitude: {match['alt']:.1f}°\")\n",
    "\n",
    "if __name__ == \"__main__\":\n",
    "    import sys\n",
    "    if len(sys.argv) < 2:\n",
    "        print(\"Usage: python estimate_sky_photo_origin.py <astrometry_json_file>\")\n",
    "    else:\n",
    "        run_estimation(sys.argv[1])"
   ]
  },
  {
   "cell_type": "code",
   "execution_count": null,
   "id": "7d654786",
   "metadata": {},
   "outputs": [],
   "source": []
  }
 ],
 "metadata": {
  "kernelspec": {
   "display_name": "Python 3",
   "language": "python",
   "name": "python3"
  },
  "language_info": {
   "codemirror_mode": {
    "name": "ipython",
    "version": 3
   },
   "file_extension": ".py",
   "mimetype": "text/x-python",
   "name": "python",
   "nbconvert_exporter": "python",
   "pygments_lexer": "ipython3",
   "version": "3.13.4"
  }
 },
 "nbformat": 4,
 "nbformat_minor": 5
}
